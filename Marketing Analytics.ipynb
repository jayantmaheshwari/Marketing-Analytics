{
 "cells": [
  {
   "cell_type": "markdown",
   "metadata": {},
   "source": [
    "# Basic Info"
   ]
  },
  {
   "cell_type": "code",
   "execution_count": null,
   "metadata": {},
   "outputs": [],
   "source": [
    "#Importing Relevant Libraries\n",
    "import pandas as pd\n",
    "import numpy as np\n",
    "import matplotlib.pyplot as plt\n",
    "import sys\n",
    "import seaborn as sns"
   ]
  },
  {
   "cell_type": "code",
   "execution_count": null,
   "metadata": {},
   "outputs": [],
   "source": [
    "#Importing Excel Data for Python analysis\n",
    "data=pd.read_excel('C:/Users/jayan/OneDrive/Desktop/Marketing Group Project/Final Data.xlsx')\n",
    "data.shape #Check shape(Rows & Columns) of Data - 111,988 Rows & 24 Columns"
   ]
  },
  {
   "cell_type": "code",
   "execution_count": null,
   "metadata": {},
   "outputs": [],
   "source": [
    "#Display all columns & rows, Surveying the data\n",
    "pd.set_option('display.max_columns', None)\n",
    "pd.set_option('display.max_rows', None)\n",
    "data.head()\n",
    "\n"
   ]
  },
  {
   "cell_type": "code",
   "execution_count": null,
   "metadata": {},
   "outputs": [],
   "source": [
    "#Data Cleaning was done in Excel & hence, we have no nulls\n",
    "data.info()"
   ]
  },
  {
   "cell_type": "code",
   "execution_count": null,
   "metadata": {},
   "outputs": [],
   "source": [
    "#Counting orders per customers across 9 months of February to October\n",
    "df_orders=data.groupby('Cust#')['Order_ID'].nunique().reset_index().sort_values(by=['Order_ID'],ascending=False)\n",
    "df_orders.columns=['Cust#','Count_of_orders']\n",
    "df_orders.head()"
   ]
  },
  {
   "cell_type": "code",
   "execution_count": null,
   "metadata": {},
   "outputs": [],
   "source": [
    "#Finding Mean number of orders per customer over these 9 months\n",
    "\n",
    "df_orders.iloc[:,1].mean()\n",
    "#We find that on an average every customer orders 5 times over 9 months."
   ]
  },
  {
   "cell_type": "code",
   "execution_count": null,
   "metadata": {},
   "outputs": [],
   "source": [
    "#Finding Standard deviation of orders to see spread of data\n",
    "df_orders.iloc[:,1].std()"
   ]
  },
  {
   "cell_type": "code",
   "execution_count": null,
   "metadata": {},
   "outputs": [],
   "source": [
    "#Finding unique number of customers (one customer is counted once)\n",
    "df_orders['Cust#'].nunique()"
   ]
  },
  {
   "cell_type": "code",
   "execution_count": null,
   "metadata": {},
   "outputs": [],
   "source": [
    "#Now we look at transactions per kiosk (kUID) (How many orders placed per kiosk)\n",
    "df_kiosk=data.groupby('kUID')['Order_ID'].nunique().reset_index().sort_values(by=['Order_ID'],ascending=False)\n",
    "df_kiosk.columns=['kUID','No_of_Orders']\n",
    "df_kiosk.head()"
   ]
  },
  {
   "cell_type": "code",
   "execution_count": null,
   "metadata": {},
   "outputs": [],
   "source": [
    "#Finding mean transactions per Kiosk for the 9 months\n",
    "df_kiosk.iloc[:,1].mean() # 587 Transactions per Kiosk"
   ]
  },
  {
   "cell_type": "code",
   "execution_count": null,
   "metadata": {},
   "outputs": [],
   "source": [
    "#Finding number of orders placed per month\n",
    "df_months=data.groupby('Month')['Order_ID'].nunique().reset_index().sort_values(by=['Order_ID'],ascending=False)\n",
    "df_months.columns=['Month', 'Orders Placed']\n",
    "df_months.head(10)"
   ]
  },
  {
   "cell_type": "code",
   "execution_count": null,
   "metadata": {},
   "outputs": [],
   "source": [
    "#Average number of orders placed every month\n",
    "df_months.iloc[:,1].mean()"
   ]
  },
  {
   "cell_type": "code",
   "execution_count": null,
   "metadata": {},
   "outputs": [],
   "source": [
    "#Find Total Number of Kiosks - 168\n",
    "df_kiosk['kUID'].nunique()"
   ]
  },
  {
   "cell_type": "code",
   "execution_count": null,
   "metadata": {},
   "outputs": [],
   "source": [
    "#Creating a subset of data grouped by Menu Category and Month\n",
    "df_menu=data.groupby(['Menu_Category','Month'])['Order_ID'].nunique().reset_index()\n",
    "\n",
    "#df_menu has size of each grouping, i.e. how many items were purchased in that category in specific months.\n",
    "df_menu.columns=['Menu_Category','Month','No_of_Orders']\n",
    "df_menu.head()"
   ]
  },
  {
   "cell_type": "code",
   "execution_count": null,
   "metadata": {},
   "outputs": [],
   "source": [
    "#Extracting Details for Cold Bowl from df_menu\n",
    "df_menu[df_menu['Menu_Category']=='Cold Bowl']"
   ]
  },
  {
   "cell_type": "code",
   "execution_count": null,
   "metadata": {},
   "outputs": [],
   "source": [
    "#Details for Hot Bowl\n",
    "df_menu[df_menu['Menu_Category']=='Hot Bowl']"
   ]
  },
  {
   "cell_type": "code",
   "execution_count": null,
   "metadata": {},
   "outputs": [],
   "source": [
    "#Details for Soups\n",
    "df_menu[df_menu['Menu_Category']=='Soups']\n"
   ]
  },
  {
   "cell_type": "code",
   "execution_count": null,
   "metadata": {},
   "outputs": [],
   "source": [
    "#Details for Snacks\n",
    "df_menu[df_menu['Menu_Category']=='Snacks']"
   ]
  },
  {
   "cell_type": "code",
   "execution_count": null,
   "metadata": {},
   "outputs": [],
   "source": [
    "#Details for Drinks\n",
    "df_menu[df_menu['Menu_Category']=='Drinks']"
   ]
  },
  {
   "cell_type": "code",
   "execution_count": null,
   "metadata": {},
   "outputs": [],
   "source": [
    "#Creating a plot to visualize the number of orders placed every month over the course of 9 months of our data\n",
    "plt.figure()\n",
    "plt.scatter(df_months['Month'],df_months['Orders Placed'])\n",
    "plt.xticks(np.arange(1,12,1))\n",
    "plt.title('Orders placed per month')\n",
    "plt.xlabel('Month')\n",
    "plt.ylabel('Orders Placed')\n",
    "plt.show()"
   ]
  },
  {
   "cell_type": "code",
   "execution_count": null,
   "metadata": {},
   "outputs": [],
   "source": [
    "#Exploring Data by Menu Category to see which ones are popular?\n",
    "items=data.groupby(['Menu_Category'])['Order_ID'].nunique().reset_index()\n",
    "items.columns=['Menu Category', 'Total Orders']\n",
    "items.sort_values('Total Orders',ascending=False)\n",
    "items.head()"
   ]
  },
  {
   "cell_type": "code",
   "execution_count": null,
   "metadata": {},
   "outputs": [],
   "source": [
    "#Exploring how number of orders vary based upon the day of the week\n",
    "weekly_orders=data.groupby('Day_of_Week')['Order_ID'].nunique().reset_index().sort_values(by=['Order_ID'],ascending=False)\n",
    "x = {'Day': ['Mon','Tues','Wed','Thurs','Fri','Sat','Sun'],'Orders Placed': [27048,22573,24810,20504,12853,2534,1486]}\n",
    "weekly_orders = pd.DataFrame.from_dict(x)\n",
    "weekly_orders\n"
   ]
  },
  {
   "cell_type": "code",
   "execution_count": null,
   "metadata": {},
   "outputs": [],
   "source": [
    "#Creating a plot for Number of orders per day of the week\n",
    "plt.figure(figsize=(10,6))\n",
    "plt.scatter(weekly_orders['Day'],weekly_orders['Orders Placed'])\n",
    "plt.title('Orders placed per dayofweek')\n",
    "plt.xlabel('Day of Week')\n",
    "plt.ylabel('Orders Placed')\n",
    "plt.axhline(weekly_orders['Orders Placed'].mean(),label='Average',c='red')\n",
    "plt.legend()\n",
    "plt.show()"
   ]
  },
  {
   "cell_type": "code",
   "execution_count": null,
   "metadata": {},
   "outputs": [],
   "source": [
    "#Number of Orders when different discounts were applied\n",
    "discount=data.groupby('Discount/SKU')['Order_ID'].nunique().reset_index().sort_values(by=['Discount/SKU'],ascending=False)"
   ]
  },
  {
   "cell_type": "code",
   "execution_count": null,
   "metadata": {},
   "outputs": [],
   "source": [
    "discount=discount[discount.iloc[:,0]>0].sort_values(by='Order_ID',ascending=False)\n",
    "\n",
    "#Showing only top 5 rows with head() , shows type of discount and orders\n",
    "discount.head()"
   ]
  },
  {
   "cell_type": "code",
   "execution_count": null,
   "metadata": {},
   "outputs": [],
   "source": [
    "#Analysing Specific SKUs-product, to see the popular items (sorted data)\n",
    "\n",
    "sku=data.groupby(['SKU','Product','Menu_Category'])['Order_ID'].nunique().reset_index().sort_values(by=['Order_ID'],ascending=False)\n",
    "sku.columns=['SKU','Product','Category','Orders']\n",
    "\n",
    "# Shows top 5 popular items\n",
    "sku.head()"
   ]
  },
  {
   "cell_type": "code",
   "execution_count": null,
   "metadata": {},
   "outputs": [],
   "source": [
    "#Kiosk Level Analysis (Count of different SKUs sold on each Kiosk)\n",
    "\n",
    "kiosk=data.groupby(['kUID','SKU','Menu_Category'])['Order_ID'].nunique().reset_index().sort_values(by=['Order_ID'],ascending=False)\n",
    "kiosk.columns=['Kiosk','SKU','Category','Orders']\n",
    "kiosk.head()"
   ]
  },
  {
   "cell_type": "code",
   "execution_count": null,
   "metadata": {},
   "outputs": [],
   "source": [
    "#Which SKU is sold maximum at each kiosk\n",
    "kmax = kiosk[['Kiosk','SKU','Category','Orders']].groupby('Kiosk')['Orders'].idxmax()\n",
    "kmax = list(kmax)\n",
    "kmax\n",
    "kiosk.loc[kmax].sort_values(by='Orders',ascending = False).head(10)"
   ]
  },
  {
   "cell_type": "code",
   "execution_count": null,
   "metadata": {},
   "outputs": [],
   "source": [
    "#Which SKU is sold minimum at each kiosk\n",
    "kmin = kiosk[['Kiosk','SKU','Category','Orders']].groupby('Kiosk')['Orders'].idxmin()\n",
    "kmin = list(kmin)\n",
    "kmin\n",
    "kiosk.loc[kmin].sort_values(by='Orders',ascending = False).head()"
   ]
  },
  {
   "cell_type": "code",
   "execution_count": null,
   "metadata": {},
   "outputs": [],
   "source": [
    "#Shows total orders per kiosk\n",
    "#Which are the top 5 kiosks\n",
    "data.groupby('kUID')['Order_ID'].count().sort_values(ascending=False).reset_index().head()"
   ]
  },
  {
   "cell_type": "code",
   "execution_count": null,
   "metadata": {},
   "outputs": [],
   "source": [
    "#Lets Change track and see Kiosks and their rise\n",
    "data.head()"
   ]
  },
  {
   "cell_type": "code",
   "execution_count": null,
   "metadata": {},
   "outputs": [],
   "source": [
    "kiosksrise=pd.DataFrame(data.groupby('Month')['kUID'].nunique()).reset_index()\n",
    "kiosksrise.head()"
   ]
  },
  {
   "cell_type": "code",
   "execution_count": null,
   "metadata": {},
   "outputs": [],
   "source": [
    "#Number of Kiosks per month - A rise of Kiosks - Good trend!\n",
    "plt.figure(figsize=(10,8))\n",
    "plt.bar(height=kiosksrise.iloc[:,1],x=kiosksrise.iloc[:,0])\n",
    "plt.plot(kiosksrise.iloc[:,0],kiosksrise.iloc[:,1],c='red')\n",
    "plt.xticks(np.arange(2,11,1))\n",
    "plt.title('Rise of Kiosks- Number of Kiosks per month')\n",
    "plt.xlabel('Months')\n",
    "plt.ylabel('Number of Kiosks')\n",
    "plt.show()\n"
   ]
  },
  {
   "cell_type": "code",
   "execution_count": null,
   "metadata": {},
   "outputs": [],
   "source": [
    "#Most popular SKUs (products)"
   ]
  },
  {
   "cell_type": "code",
   "execution_count": null,
   "metadata": {},
   "outputs": [],
   "source": [
    "data.head()"
   ]
  },
  {
   "cell_type": "code",
   "execution_count": null,
   "metadata": {},
   "outputs": [],
   "source": [
    "#Product popularity by number of products\n",
    "Product_popular=data.groupby('Product')['Order_ID'].nunique().reset_index().sort_values(by = 'Order_ID',ascending = False)\n",
    "Product_popular.columns=['Product','Number of orders']\n",
    "Product_popular.head()"
   ]
  },
  {
   "cell_type": "code",
   "execution_count": null,
   "metadata": {},
   "outputs": [],
   "source": [
    "#Product popularity by number of customers\n",
    "prodcust=pd.DataFrame(data.groupby('Product')['Cust#'].nunique()).reset_index().sort_values(by = 'Cust#',ascending = False)\n",
    "prodcust.columns=['Product','Count_of_unique_customers']\n",
    "prodcust.head()"
   ]
  },
  {
   "cell_type": "code",
   "execution_count": null,
   "metadata": {},
   "outputs": [],
   "source": [
    "#Compare top 5 popular products by number of orders & number of Customers that order those products."
   ]
  },
  {
   "cell_type": "code",
   "execution_count": null,
   "metadata": {},
   "outputs": [],
   "source": [
    "#How many customers and orders we have had for popular items over 9 months.\n",
    "print(prodcust.head())\n",
    "print(Product_popular.head())"
   ]
  },
  {
   "cell_type": "code",
   "execution_count": null,
   "metadata": {},
   "outputs": [],
   "source": [
    "#How many 'unique' SKUs are offered per menu category\n",
    "menu=pd.DataFrame(data.groupby('Menu_Category')['SKU'].nunique()).reset_index().sort_values('SKU',ascending=False)\n",
    "menu.head()"
   ]
  },
  {
   "cell_type": "code",
   "execution_count": null,
   "metadata": {},
   "outputs": [],
   "source": [
    "#Number of items offered per menu category\n",
    "plt.figure(figsize=(14,8))\n",
    "plt.bar(x='Menu_Category',height='SKU',data=menu)\n",
    "plt.title('Number of items offered per category',fontsize=14)\n",
    "plt.ylabel('Number of Items',fontsize=12)\n",
    "plt.xlabel('Category',fontsize=12)\n",
    "plt.show()"
   ]
  },
  {
   "cell_type": "code",
   "execution_count": null,
   "metadata": {},
   "outputs": [],
   "source": [
    "#Menu Category orders across months\n",
    "menumonth=pd.DataFrame(data.groupby(['Menu_Category','Month'])['Order_ID'].nunique()).reset_index()\n",
    "#Changing column names\n",
    "menumonth.columns=['Menu_Category','Month','Orders']\n",
    "menumonth.head(5)"
   ]
  },
  {
   "cell_type": "code",
   "execution_count": null,
   "metadata": {},
   "outputs": [],
   "source": [
    "#Trend of number of orders per month per menu category\n",
    "plt.figure(figsize=(10,6))\n",
    "for i in data['Menu_Category'].unique():\n",
    "    c=menumonth[menumonth.loc[:,'Menu_Category']==i]\n",
    "    plt.plot('Month','Orders',label=i, data=c)\n",
    "plt.legend(loc='upper right',bbox_to_anchor=(1.2,1.02))\n",
    "plt.title('Rise of orders per menu category per month',fontsize=14)\n",
    "plt.xlabel('Month',fontsize=12)\n",
    "plt.ylabel('Orders',fontsize=12)\n",
    "plt.show()"
   ]
  },
  {
   "cell_type": "code",
   "execution_count": null,
   "metadata": {},
   "outputs": [],
   "source": [
    "#How did they add options/products in each category per month ? \n",
    "menupermonth=pd.DataFrame(data.groupby(['Menu_Category','Month'])['SKU'].nunique())\n",
    "menupermonth.head(10)"
   ]
  },
  {
   "cell_type": "code",
   "execution_count": null,
   "metadata": {},
   "outputs": [],
   "source": [
    "#Plotting rise of options\n",
    "menupermonth=menupermonth.reset_index()\n",
    "plt.figure(figsize=(8,5))\n",
    "for i in data['Menu_Category'].unique():\n",
    "    p=menupermonth[menupermonth.loc[:,'Menu_Category']==i]\n",
    "    plt.plot('Month','SKU',label=i, data=p)\n",
    "plt.legend(loc='upper right',bbox_to_anchor=(1.22,1))\n",
    "plt.title('Rise of options in each Menu Category per month',fontsize=14)\n",
    "plt.xlabel('Month',fontsize=12)\n",
    "plt.ylabel('Number of options',fontsize=12)\n",
    "plt.show()"
   ]
  },
  {
   "cell_type": "code",
   "execution_count": null,
   "metadata": {},
   "outputs": [],
   "source": [
    "#How many percentage of' Kiosks' (One kUID counted once) have that product ?\n",
    "kiosk_products=pd.DataFrame(data.groupby('Product')['kUID'].nunique()/data['kUID'].nunique()*100).reset_index().sort_values('kUID',ascending=False)\n",
    "kiosk_products.head()\n",
    "#Now we can see in how many % of total kiosks we have specific products.\n",
    "#For example Popular Spaghetti & Meatballs is available at 99.4% of all kiosks"
   ]
  },
  {
   "cell_type": "code",
   "execution_count": null,
   "metadata": {},
   "outputs": [],
   "source": [
    "#Finding Correlation between Number of orders & Kiosk Availability\n",
    "#Does orders increase by increase the availability of items at different kiosks ? - Yes!\n",
    "corr1=pd.merge(kiosk_products,prodcust,on='Product',how='inner')\n",
    "corr1.columns=['Product','kUID', 'Orders']\n",
    "corr1.head()"
   ]
  },
  {
   "cell_type": "code",
   "execution_count": null,
   "metadata": {},
   "outputs": [],
   "source": [
    "#Finding correlation between Kiosk availability & Number of orders\n",
    "#there seems to be a strong correlation between Kiosk availability and popularity (orders)\n",
    "#So the ones that are popular have higher kiosk availability & number of orders.\n",
    "corr1['kUID'].corr(corr1['Orders']) "
   ]
  },
  {
   "cell_type": "code",
   "execution_count": null,
   "metadata": {},
   "outputs": [],
   "source": [
    "#Now we create a subset of customers when they first appeared\n",
    "first_transaction=data[data['Cust_Occurence_Sequence']==1]\n",
    "first_tran_edit=first_transaction[['Cust#','Product','Cust_Occurence_Sequence']]\n",
    "first_tran_edit.head()"
   ]
  },
  {
   "cell_type": "code",
   "execution_count": null,
   "metadata": {},
   "outputs": [],
   "source": [
    "#What do these customers buy on the first purchase, is there a pattern ?\n",
    "firstcus=pd.DataFrame(first_transaction.groupby('Product')['Cust_Occurence_Sequence'].count()).reset_index().sort_values('Cust_Occurence_Sequence',ascending=False)\n",
    "firstcus.head()\n",
    "#Seems like the first purchase of customers corresponds to the five most popular items\n",
    "#So on their first purchase they buy the most popular items"
   ]
  },
  {
   "cell_type": "code",
   "execution_count": null,
   "metadata": {},
   "outputs": [],
   "source": [
    "#What happens on their second purchase ? Do they still buy the same stuff or try something different than first purchase\n",
    "#Customer's Second transactions. Was it the same as their first ?\n",
    "#Creating a subject of the customers' second appearance\n",
    "nonfirst=data[data['Cust_Occurence_Sequence']==2]\n",
    "nonfirst.head()"
   ]
  },
  {
   "cell_type": "code",
   "execution_count": null,
   "metadata": {},
   "outputs": [],
   "source": [
    "#Taking only required columns\n",
    "nonfir_edit=nonfirst[['Cust#','Product','Cust_Occurence_Sequence']]\n",
    "nonfir_edit.head()"
   ]
  },
  {
   "cell_type": "code",
   "execution_count": null,
   "metadata": {},
   "outputs": [],
   "source": [
    "#Product_X is first item they bought, Product_Y is second purchase.\n",
    "#Shows which customers were willing to try new stuff on their second purchase\n",
    "#Merging the first and second purchase datasets\n",
    "newstuff=pd.merge(first_tran_edit,nonfir_edit,on='Cust#',how='inner')\n",
    "newstuff.head()"
   ]
  },
  {
   "cell_type": "code",
   "execution_count": null,
   "metadata": {},
   "outputs": [],
   "source": [
    "#newstuff_12 will contain all data where 1st and 2nd purchases were NOT same.\n",
    "newstuff_12=newstuff[newstuff['Product_x']!=newstuff['Product_y']]\n",
    "newstuff_12.head()"
   ]
  },
  {
   "cell_type": "code",
   "execution_count": null,
   "metadata": {},
   "outputs": [],
   "source": [
    "#10554 customers tried sth new on the second purchase\n",
    "newstuff_12['Cust#'].nunique()"
   ]
  },
  {
   "cell_type": "code",
   "execution_count": null,
   "metadata": {},
   "outputs": [],
   "source": [
    "#Dividing by total customers to see what % tried something new second time.\n",
    "#Which is almost 55.93% Customers are willing to buy new stuff on second purchase !!\n",
    "newstuff_12['Cust#'].nunique()/data['Cust#'].nunique()*100"
   ]
  },
  {
   "cell_type": "code",
   "execution_count": null,
   "metadata": {},
   "outputs": [],
   "source": [
    "#How was the monthly pattern for first time customer appearance\n",
    "newfi=data[data['Cust_Occurence_Sequence']==1]\n",
    "newfi.head()"
   ]
  },
  {
   "cell_type": "code",
   "execution_count": null,
   "metadata": {},
   "outputs": [],
   "source": [
    "occumonth=pd.DataFrame(newfi.groupby('Month')['Cust_Occurence_Sequence'].count()).reset_index()\n",
    "occumonth.columns=['Month','Customers_Appeared_First']\n",
    "occumonth"
   ]
  },
  {
   "cell_type": "code",
   "execution_count": null,
   "metadata": {},
   "outputs": [],
   "source": [
    "#Plot first customer occurences by month\n",
    "plt.figure(figsize=(12,10))\n",
    "plt.bar(x ='Month',height='Customers_Appeared_First',data=occumonth)\n",
    "plt.plot(occumonth.iloc[:,0],occumonth.iloc[:,1],c='red')\n",
    "plt.xticks(np.arange(2,11,1))\n",
    "plt.title('New customer additions across months')\n",
    "plt.xlabel('Months')\n",
    "plt.ylabel('New Customers')\n",
    "plt.show()"
   ]
  }
 ],
 "metadata": {
  "kernelspec": {
   "display_name": "Python 3",
   "language": "python",
   "name": "python3"
  },
  "language_info": {
   "codemirror_mode": {
    "name": "ipython",
    "version": 3
   },
   "file_extension": ".py",
   "mimetype": "text/x-python",
   "name": "python",
   "nbconvert_exporter": "python",
   "pygments_lexer": "ipython3",
   "version": "3.7.3"
  }
 },
 "nbformat": 4,
 "nbformat_minor": 2
}
